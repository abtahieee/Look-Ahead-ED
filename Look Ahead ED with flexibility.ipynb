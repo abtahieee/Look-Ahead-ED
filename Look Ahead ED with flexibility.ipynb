{
 "cells": [
  {
   "cell_type": "markdown",
   "id": "2c332755",
   "metadata": {},
   "source": [
    "### Look ahead ED with a flexibility for 4 time steps"
   ]
  },
  {
   "cell_type": "code",
   "execution_count": 220,
   "id": "687d7f1a",
   "metadata": {},
   "outputs": [],
   "source": [
    "import numpy as np\n",
    "import gurobipy as gp\n",
    "from gurobipy import GRB"
   ]
  },
  {
   "cell_type": "markdown",
   "id": "b58559d3",
   "metadata": {},
   "source": [
    "### Defining the system\n",
    "We will take 4 time steps, 3 gens, 1 flexibility and 4 different demands at each time step. Gen, and flex will have min and max value and have a cost."
   ]
  },
  {
   "cell_type": "code",
   "execution_count": 221,
   "id": "850f14c0",
   "metadata": {},
   "outputs": [],
   "source": [
    "ngens = 3 #Total gen\n",
    "nperiods = 4 #Total Time\n",
    "nflexs = 1 #Total flex\n",
    "min_gen = [0,0,0] #Min Gen limit\n",
    "max_gen = [50,100,150] #Max Gen Limit\n",
    "cost = [40,15,10] #Cost of each Gen\n",
    "demand = [250,300,320,300] #Demand at each time step\n",
    "min_flex = [0] #Min flex limit\n",
    "max_flex = [30] #Max flex Limit\n",
    "cost_flex = [8] #Flex cost"
   ]
  },
  {
   "cell_type": "markdown",
   "id": "b5ff92bf",
   "metadata": {},
   "source": [
    "#### Defining variable\n",
    "Important to analyse the result."
   ]
  },
  {
   "cell_type": "code",
   "execution_count": 222,
   "id": "a7a252a3",
   "metadata": {},
   "outputs": [],
   "source": [
    "generators = np.ones((ngens,), dtype=int)\n",
    "flexibilities = np.ones((nflexs), dtype = int)\n",
    "model = gp.Model('ED')\n",
    "ngen = model.addVars(ngens, nperiods, vtype=GRB.BINARY, name=\"ngen\")\n",
    "output = model.addVars(ngens, nperiods, vtype=GRB.CONTINUOUS, name=\"genoutput\") #Take Gen output\n",
    "nflex = model.addVars(nflexs, nperiods, vtype=GRB.BINARY, name=\"nflex\")\n",
    "output_flex = model.addVars(nflexs, nperiods, vtype=GRB.CONTINUOUS, name=\"flexoutput\") #Take Flex Output"
   ]
  },
  {
   "cell_type": "markdown",
   "id": "83dc4663",
   "metadata": {},
   "source": [
    "#### Defining General Constraint\n",
    "At first, we will define the constraint for gen, and flex limit."
   ]
  },
  {
   "cell_type": "code",
   "execution_count": 223,
   "id": "6e649c52",
   "metadata": {},
   "outputs": [],
   "source": [
    "#Counting total Gen\n",
    "numgen = model.addConstrs(ngen[g, p] <= generators[g]\n",
    "                         for g in range(ngens) for p in range(nperiods))\n",
    "\n",
    "#Counting total flex\n",
    "numflex = model.addConstrs(nflex[f, p] <= flexibilities[f]\n",
    "                         for f in range(nflexs) for p in range(nperiods))\n",
    "\n",
    "# Min Gen Limit\n",
    "min_output = model.addConstrs((output[g, p] >= min_gen[g] * ngen[g, p])\n",
    "                              for g in range(ngens) for p in range(nperiods))\n",
    "\n",
    "#Max Gen Limit\n",
    "max_output = model.addConstrs((output[g, p] <= max_gen[g] * ngen[g, p])\n",
    "                              for g in range(ngens) for p in range(nperiods))\n",
    "\n",
    "#Min Flex Limit\n",
    "min_output_f = model.addConstrs((output_flex[f, p] >= min_flex[f] * nflex[f, p])\n",
    "                              for f in range(nflexs) for p in range(nperiods))\n",
    "\n",
    "#Max Flex Limit\n",
    "max_output_f = model.addConstrs((output_flex[f, p] <= max_flex[f] * nflex[f, p])\n",
    "                              for f in range(nflexs) for p in range(nperiods))"
   ]
  },
  {
   "cell_type": "markdown",
   "id": "507b6e85",
   "metadata": {},
   "source": [
    "### Look-ahead flexibillity constraint (Important)\n",
    "This constraint will look the future demand and allocate flexibility based on that. Note that, flexibility cost is given $8$, which is less than the generating units. So, if I don't look ahead, the system will always use the flexibility first. But due to this, it will not be like this. Let's see."
   ]
  },
  {
   "cell_type": "code",
   "execution_count": 224,
   "id": "abb11e85",
   "metadata": {},
   "outputs": [],
   "source": [
    "flex_cons = model.addConstrs(gp.quicksum(output_flex[f, p] for f in range(nflexs) for p in range(nperiods)) <= 30  for p in range(nperiods))"
   ]
  },
  {
   "cell_type": "markdown",
   "id": "b1d11383",
   "metadata": {},
   "source": [
    "#### Meet demand constraint\n",
    "This constraint will make sure that the sum of generating unit plus flexibility will meet the existing demand"
   ]
  },
  {
   "cell_type": "code",
   "execution_count": 225,
   "id": "d6edf984",
   "metadata": {},
   "outputs": [],
   "source": [
    "meet_demand = model.addConstrs(gp.quicksum(output[g, p] for g in range(ngens))+gp.quicksum(output_flex[f, p] for f in range(nflexs)) == demand[p]\n",
    "                               for p in range(nperiods))"
   ]
  },
  {
   "cell_type": "markdown",
   "id": "352c7f99",
   "metadata": {},
   "source": [
    "#### Objective Model\n",
    "The objective is to minimize the cost for generating units and the cost for utilizing the flexibility over the whole time steps."
   ]
  },
  {
   "cell_type": "code",
   "execution_count": 226,
   "id": "4bda56bd",
   "metadata": {},
   "outputs": [],
   "source": [
    "g_f_cost = gp.quicksum(cost[g]*(output[g,p])\n",
    "                    for g in range(ngens) for p in range(nperiods))+gp.quicksum(cost_flex[f]*(output_flex[f,p])\n",
    "                    for f in range(nflexs) for p in range(nperiods))"
   ]
  },
  {
   "cell_type": "code",
   "execution_count": 227,
   "id": "6419d99f",
   "metadata": {},
   "outputs": [
    {
     "name": "stdout",
     "output_type": "stream",
     "text": [
      "Gurobi Optimizer version 9.5.1 build v9.5.1rc2 (win64)\n",
      "Thread count: 4 physical cores, 8 logical processors, using up to 8 threads\n",
      "Optimize a model with 56 rows, 32 columns and 96 nonzeros\n",
      "Model fingerprint: 0xe193d133\n",
      "Variable types: 16 continuous, 16 integer (16 binary)\n",
      "Coefficient statistics:\n",
      "  Matrix range     [1e+00, 2e+02]\n",
      "  Objective range  [8e+00, 4e+01]\n",
      "  Bounds range     [1e+00, 1e+00]\n",
      "  RHS range        [1e+00, 3e+02]\n",
      "Found heuristic solution: objective 18160.000000\n",
      "Presolve removed 56 rows and 32 columns\n",
      "Presolve time: 0.00s\n",
      "Presolve: All rows and columns removed\n",
      "\n",
      "Explored 0 nodes (0 simplex iterations) in 0.02 seconds (0.00 work units)\n",
      "Thread count was 1 (of 8 available processors)\n",
      "\n",
      "Solution count 2: 17840 18160 \n",
      "\n",
      "Optimal solution found (tolerance 1.00e-04)\n",
      "Best objective 1.784000000000e+04, best bound 1.784000000000e+04, gap 0.0000%\n"
     ]
    }
   ],
   "source": [
    "model.setObjective(g_f_cost)\n",
    "model.optimize()"
   ]
  },
  {
   "cell_type": "markdown",
   "id": "efadbe3f",
   "metadata": {},
   "source": [
    "### Getting Results\n",
    "We will analyze the output from gen and the usage of flexibility in each time step for meeting demand"
   ]
  },
  {
   "cell_type": "code",
   "execution_count": 228,
   "id": "915dbd28",
   "metadata": {},
   "outputs": [],
   "source": [
    "v = model.getVars()"
   ]
  },
  {
   "cell_type": "code",
   "execution_count": 229,
   "id": "10972580",
   "metadata": {},
   "outputs": [
    {
     "name": "stdout",
     "output_type": "stream",
     "text": [
      "=== Time Period: 0 === \n",
      "  MW Demand: 250\n",
      " Gen  1 output: 0\n",
      " Gen  2 output: 100\n",
      " Gen  3 output: 150\n",
      " Flex  1 output: 0\n",
      "=== Time Period: 1 === \n",
      "  MW Demand: 300\n",
      " Gen  1 output: 50\n",
      " Gen  2 output: 100\n",
      " Gen  3 output: 150\n",
      " Flex  1 output: 0\n",
      "=== Time Period: 2 === \n",
      "  MW Demand: 320\n",
      " Gen  1 output: 40\n",
      " Gen  2 output: 100\n",
      " Gen  3 output: 150\n",
      " Flex  1 output: 30\n",
      "=== Time Period: 3 === \n",
      "  MW Demand: 300\n",
      " Gen  1 output: 50\n",
      " Gen  2 output: 100\n",
      " Gen  3 output: 150\n",
      " Flex  1 output: 0\n"
     ]
    }
   ],
   "source": [
    "for t in range(nperiods):\n",
    "    print('=== Time Period: %g === \\n  MW Demand: %g' %(t, demand[t]))\n",
    "    for gen in range(ngens):\n",
    "        gen_output =v[12+t+4*gen].X\n",
    "        print(' Gen %2g output: %.0f' %(gen+1, gen_output))\n",
    "\n",
    "    for fl in range(nflexs):\n",
    "        output_flex = v[28 + t + 4 * fl].X\n",
    "        print(' Flex %2g output: %.0f' %(fl+1, output_flex))"
   ]
  },
  {
   "cell_type": "markdown",
   "id": "6f016ad3",
   "metadata": {},
   "source": [
    "### Evaluating the result\n",
    "Note that the demand for Time Period $2$ is maximum. Gen 1 cost is higher than all. Flexibility cost is low but it has a look ahead constraint.\n",
    "\n",
    "Time Period 0: Total Demand: 250, Met by Gen 2 and Gen 3. It could use the flexibility, but it didn't.\n",
    "\n",
    "\n",
    "Time Period 1: Total Demand: 300, Met by Gen 1, 2 and Gen 3. It could use the flexibility, but it didn't.\n",
    "\n",
    "\n",
    "Time Period 2: Total Demand: 320, Met by Gen 1, 2 and Gen 3 and Flexibility. Note that, if the system utilized the flexibility in earlier time period, in Time Period 2, it needs to produce 70 MW from Gen 1, which is not cost effective for the whole time periods. We can only use 30 MW of total flexibility over the whole time periods. So, it is using in such a way that can minimize the total cost.\n",
    "\n",
    "\n",
    "Time Period 3: We don't have anymore flexibility left. Total demand met by the Gen.\n",
    "\n",
    "\n",
    "$\\textbf{Summary}$: If we remove the look-ahead flexibility constraint, we will see that the system will use the fleixibility in all time step.\n",
    "\n"
   ]
  }
 ],
 "metadata": {
  "kernelspec": {
   "display_name": "Python 3",
   "language": "python",
   "name": "python3"
  },
  "language_info": {
   "codemirror_mode": {
    "name": "ipython",
    "version": 3
   },
   "file_extension": ".py",
   "mimetype": "text/x-python",
   "name": "python",
   "nbconvert_exporter": "python",
   "pygments_lexer": "ipython3",
   "version": "3.8.8"
  }
 },
 "nbformat": 4,
 "nbformat_minor": 5
}
